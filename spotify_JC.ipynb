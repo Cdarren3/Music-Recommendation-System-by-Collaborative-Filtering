{
 "metadata": {
  "language_info": {
   "codemirror_mode": {
    "name": "ipython",
    "version": 3
   },
   "file_extension": ".py",
   "mimetype": "text/x-python",
   "name": "python",
   "nbconvert_exporter": "python",
   "pygments_lexer": "ipython3",
   "version": "3.8.3-final"
  },
  "orig_nbformat": 2,
  "kernelspec": {
   "name": "python3",
   "display_name": "Python 3",
   "language": "python"
  }
 },
 "nbformat": 4,
 "nbformat_minor": 2,
 "cells": [
  {
   "cell_type": "code",
   "execution_count": 1,
   "metadata": {},
   "outputs": [],
   "source": [
    "import numpy as np\n",
    "import pandas as pd\n",
    "import json\n",
    "from scipy.spatial.distance import hamming"
   ]
  },
  {
   "cell_type": "code",
   "execution_count": 2,
   "metadata": {},
   "outputs": [],
   "source": [
    "# make a function that has the playlist column and the song column\n",
    "def make_songlist(x):\n",
    "    # make a dictionary for the first playlist and its songs as the root of the final dataframe\n",
    "    d = {\"playlist\": 0, \"song\": x[0]}\n",
    "    df = pd.DataFrame(d)\n",
    "    # use a for loop to append the rest of the playlists and songs into the root dataframe\n",
    "    for n in range(1, len(x)):\n",
    "        d = {\"playlist\": n, \"song\": x[n]}\n",
    "        df2 = pd.DataFrame(d)\n",
    "        df = df.append(df2, ignore_index = True)\n",
    "    return df"
   ]
  },
  {
   "cell_type": "code",
   "execution_count": 28,
   "metadata": {},
   "outputs": [
    {
     "output_type": "execute_result",
     "data": {
      "text/plain": [
       "(67503, 2)"
      ]
     },
     "metadata": {},
     "execution_count": 28
    }
   ],
   "source": [
    "# load the first 1000 spotify playlists\n",
    "with open(\"D:/Users/jacky/Desktop/Data Science/Capstone Projects/Music_Recommendations/spotify/spotify_million_playlist_dataset/data/mpd.slice.0-999.json\") as f:\n",
    "    data = json.load(f)\n",
    "\n",
    "# extract the song names in each playlist and store it in a list respectively\n",
    "song_playlist = {}\n",
    "for i, n in enumerate(data[\"playlists\"]):\n",
    "    song_playlist[i] = []\n",
    "    for m in n[\"tracks\"]:\n",
    "        song_playlist[i].append(m[\"track_name\"])\n",
    "\n",
    "make_songlist(song_playlist).shape"
   ]
  },
  {
   "cell_type": "code",
   "execution_count": 4,
   "metadata": {},
   "outputs": [],
   "source": [
    "# load the first P sets of playlists (each set contains 1000 playlists)\n",
    "\n",
    "def load_files(P):\n",
    "\n",
    "    for n in range(P):\n",
    "        a = str(0 + 1000*n)\n",
    "        b = str(999 + 1000*n)\n",
    "        filepath = \"D:/Users/jacky/Desktop/Data Science/Capstone Projects/Music_Recommendations/spotify/spotify_million_playlist_dataset/data/mpd.slice.\" + a + \"-\" + b + \".json\"\n",
    "        with open(filepath) as f:\n",
    "            data = json.load(f)\n",
    "\n",
    "# extract the songs from the original dictionary\n",
    "        song_playlist = {}\n",
    "        for i, j in enumerate(data[\"playlists\"]):\n",
    "            song_playlist[i+1000*n] = []\n",
    "            for m in j[\"tracks\"]:\n",
    "                song_playlist[i+1000*n].append(m[\"track_name\"])\n",
    "\n",
    "# append each playlist's songs into a dataframe for further proces\n",
    "        if n == 0:\n",
    "            df_playlist_song = make_songlist(song_playlist)\n",
    "        else:\n",
    "            for a in range(len(song_playlist)):\n",
    "                d = {\"playlist\": a + 1000*n, \"song\": song_playlist[a + 1000*n]}\n",
    "                df2 = pd.DataFrame(d)\n",
    "                df_playlist_song = df_playlist_song.append(df2, ignore_index = True)\n",
    "\n",
    "    return df_playlist_song"
   ]
  },
  {
   "cell_type": "code",
   "execution_count": 5,
   "metadata": {},
   "outputs": [],
   "source": [
    "# Load the first 10000 playlists into the variable\n",
    "df_playlist_song2 = load_files(10)\n",
    "df_playlist_song2 = df_playlist_song2.set_index(\"playlist\")\n",
    "df_playlist_song2.to_csv(\"playlist_song2.csv\")"
   ]
  },
  {
   "cell_type": "code",
   "execution_count": 27,
   "metadata": {},
   "outputs": [
    {
     "output_type": "execute_result",
     "data": {
      "text/plain": [
       "(664712, 1)"
      ]
     },
     "metadata": {},
     "execution_count": 27
    }
   ],
   "source": [
    "df_playlist_song2.shape"
   ]
  },
  {
   "cell_type": "code",
   "execution_count": 26,
   "metadata": {},
   "outputs": [],
   "source": [
    "# by one hot encoding and groupby functions, a pivot table with playlists against songs is produced\n",
    "# song_matrix = pd.get_dummies(df_playlist_song[\"song\"]).groupby([\"playlist\"]).sum()\n",
    "# song_matrix.to_csv(\"song_matrix.csv\")"
   ]
  },
  {
   "cell_type": "code",
   "execution_count": 1,
   "metadata": {},
   "outputs": [],
   "source": [
    "# convert all 0s to np.nan for hamming distance calculation\n",
    "# song_matrix[song_matrix==0] = np.nan\n",
    "# song_matrix.to_csv(\"song_matrix.csv\")"
   ]
  },
  {
   "cell_type": "code",
   "execution_count": 28,
   "metadata": {},
   "outputs": [],
   "source": [
    "\"\"\"\n",
    "# create a function to obtain the K nearest neighbours by hamming distance calculation\n",
    "def nearestneighbours(user, K):\n",
    "    # obtain a list of playlists without the target user's playlist to avoid duplicates before hamming calculation\n",
    "    allusers = pd.DataFrame(song_matrix.index)\n",
    "    allusers = allusers[allusers[\"playlist\"]!= user]\n",
    "\n",
    "    # apply hamming distance between the target playlist and the rest of the playlists and return K nearest results\n",
    "    allusers[\"distance\"] = allusers[\"playlist\"].apply(lambda x: hamming(song_matrix.loc[user], song_matrix.loc[x]))\n",
    "    Knearest = allusers.sort_values([\"distance\"], ascending = True)[\"playlist\"][:K]\n",
    "    return Knearest\n",
    "\n",
    "def topN(user, x, K, N):\n",
    "    # obtain KNN through the function created before and store the target neighbours songs into a variable\n",
    "    KNearest = nearestneighbours(user, K)\n",
    "    NNsongs = df_playlist_song[df_playlist_song.index.isin(KNearest)]\n",
    "\n",
    "    # filter the song names by eliminating songs which are already in the user's playlist\n",
    "    top_songs = NNsongs[\"song\"].value_counts()#.index\n",
    "    user_songs = df_playlist_song[df_playlist_song.index == user]\n",
    "    if user == \"user\":\n",
    "        user_songs = x[:10]\n",
    "    top_songs = top_songs[~top_songs.index.isin(user_songs)][:N]\n",
    "\n",
    "    return top_songs\n",
    "\n",
    "# function to let a new user get recommnedation\n",
    "def new_recommendation(x):\n",
    "    user_songs2 = x[:10]\n",
    "    song_matrix.loc[\"user\"] = np.nan\n",
    "    for song in user_songs2:\n",
    "        if song in song_matrix.columns:\n",
    "            song_index = list(song_matrix.loc[\"user\"].index).index(song)\n",
    "            song_matrix.iloc[len(song_matrix)-1 ,song_index] = 1\n",
    "            print(song, \"is in the database\")\n",
    "    final = topN(\"user\", x, 50, 100)\n",
    "    return final\n",
    "\n",
    "# evaluation function to measure the succesful hit-rate of the recommendation system based on user-input playlist\n",
    "def evaluation_metrics(x):\n",
    "    list_recom = new_recommendation(x)\n",
    "    list_remaining_songs = x[10:]\n",
    "    total_songs = len(set(list_remaining_songs).intersection(song_matrix.columns))\n",
    "    matched_songs = len(list_recom.index.intersection(list_remaining_songs))\n",
    "    print(list_recom.index)\n",
    "\n",
    "    matched_rate = matched_songs/total_songs\n",
    "\n",
    "    return matched_rate, total_songs, matched_songs\n",
    "\"\"\""
   ]
  },
  {
   "cell_type": "code",
   "execution_count": 20,
   "metadata": {},
   "outputs": [],
   "source": [
    "# create a function to obtain the K nearest neighbours by hamming distance calculation\n",
    "def nearestneighbours_god(user_songs2, K):\n",
    "    # obtain a list of playlists without the target user's playlist to avoid duplicates before hamming calculation\n",
    "    df_god = pd.DataFrame(set(df_playlist_song2.index))\n",
    "    df_god = df_god.set_index(0)\n",
    "    df_god.index.names = [\"playlist\"]\n",
    "    df_god[\"hamming\"] = 1\n",
    "\n",
    "    # apply hamming distance between the target playlist and the rest of the playlists and return K nearest results\n",
    "    for n in df_god.index:\n",
    "        song_matrix = pd.get_dummies(df_playlist_song2[df_playlist_song2.index == n], prefix=\"\", prefix_sep=\"\").groupby([\"playlist\"]).sum()\n",
    "        song_matrix.loc[\"user\"] = np.nan\n",
    "        for song in user_songs2:\n",
    "            if song in song_matrix.columns:\n",
    "                song_index = list(song_matrix.loc[\"user\"].index).index(song)\n",
    "                song_matrix.iloc[len(song_matrix)-1 ,song_index] = 1\n",
    "\n",
    "        df_god.loc[n, \"hamming\"] = hamming(song_matrix.loc[\"user\"], song_matrix.loc[n])\n",
    "\n",
    "    df_god = df_god.sort_values([\"hamming\"], ascending=True)[:K]\n",
    "\n",
    "    return df_god\n",
    "\n",
    "def topN_god(user_songs2, K, N):\n",
    "    # obtain KNN through the function created before and store the target neighbours songs into a variable\n",
    "    KNearest = nearestneighbours_god(user_songs2, K).index\n",
    "    NNsongs = df_playlist_song2[df_playlist_song2.index.isin(KNearest)]\n",
    "\n",
    "    # filter the song names by eliminating songs which are already in the user's playlist\n",
    "    top_songs = NNsongs[\"song\"].value_counts()#.index\n",
    "    user_songs = user_songs2[:20]\n",
    "    top_songs = top_songs[~top_songs.index.isin(user_songs)][:N]\n",
    "\n",
    "    return top_songs\n",
    "\n",
    "# function to let a new user get recommnedation\n",
    "def new_recommendation_god(user_songs):\n",
    "    user_songs2 = user_songs[:20]\n",
    "    for song in user_songs2:\n",
    "        if song in list(df_playlist_song2[\"song\"]):\n",
    "            print(song, \"is in the database\")\n",
    "    final = topN_god(user_songs2, 50, 100)\n",
    "    return final\n",
    "\n",
    "# evaluation function to measure the succesful hit-rate of the recommended song list based on user-input playlist\n",
    "def evaluation_metrics_god(x):\n",
    "    list_recom = new_recommendation_god(x)\n",
    "    list_remaining_songs = x[20:]\n",
    "    total_songs = len(set(list_remaining_songs).intersection(df_playlist_song2[\"song\"]))\n",
    "    matched_songs = len(list_recom.index.intersection(list_remaining_songs))\n",
    "    print(list_recom.index)\n",
    "\n",
    "    matched_rate = matched_songs/total_songs\n",
    "    results = f\"\"\"Songs that appear in Spotify database: {total_songs}\\nSongs that match our recommended songs: {matched_songs}\\nMatching Rate: {round(matched_rate*100, 2)}%\"\"\"\n",
    "\n",
    "    return results"
   ]
  },
  {
   "source": [
    "user_playlist = [\"Tik Tok\",\"Need You Now\",\"Hey, Soul Sister\",\"CaliforniaGurls\",\"OMG\",\"Airplanes\",\n",
    "        \"Love the Way You Lie\",\"Bad Romance\",\"Dynamite\",\"Break Your Heart\",\n",
    "        \"Nothin' on You\",\"I Like It\",\"BedRock\",\"In My Head\",\"Rude Boy\",\n",
    "        \"Telephone\",\"Teenage Dream\",\"Just the Way You Are\",\"Cooler Than Me\",\"Imma Be\",\n",
    "        \"Empire State of Mind\",\"DJ Got Us Fallin' in Love\",\"Billionaire\"\n",
    "        ,\"Not Afraid\",\"Replay\",\"Sexy Bitch\",\"Breakeven\",\"Your Love Is My Drug\",\n",
    "        \"I Gotta Feeling\",\"Fireflies\",\"Say Aah\",\"Find Your Love\",\"Alejandro\"\n",
    "        ,\"Ridin' Solo\",\"Just a Dream\",\"How Low\",\"Like a G6\",\"Carry Out\",\"Haven't Met You Yet\",\n",
    "        \"Club Can't Handle Me\",\"Down\",\"Bulletproof\",\"Whatcha Say\",\"Baby\",\"Whataya Want from Me\"\n",
    "        ,\"Mine\",\"Only Girl (In the World)\",\"Live Like We're Dying\",\"Hard\",\"Young Forever\",\"Blah Blah Blah\"\n",
    "        ,\"Bottoms Up\",\"Do You Remember\",\"All the Right Moves\",\"According to You\",\"My Chick Bad\",\n",
    "        \"You Belong with Me\",\"Meet Me Halfway\",\"Take It Off\",\"Over\",\"Animal\",\"Misery\",\"Magic\",\"Paparazzi\"\n",
    "        ,\"Tie Me Down\",\"Your Love\",\"Party in the U.S.A.\",\"Deuces\",\"3\",\"Impossible\",\"Forever\"\n",
    "        ,\"Two Is Better Than One\",\"My First Kiss\",\"Already Gone\",\"Rock That Body\",\"Secrets\"\n",
    "        ,\"Naturally\",\"Un-Thinkable (I'm Ready)\",\"All I Do Is Win\",\"I Made It (Cash Money Heroes)\"\n",
    "        ,\"Stuck Like Glue\",\"Hey Daddy (Daddy's Home)\",\"There Goes My Baby\",\"Today Was a Fairytale\"\n",
    "        ,\"Say Something\",\"Sweet Dreams\",\"Use Somebody\",\"Undo It\",\"Eenie Meenie\",\"Right Above It\"\n",
    "        ,\"The House That Built Me\",\"If I Die Young\",\"The Only Exception\",\"American Honey\"\n",
    "        ,\"King of Anything\",\"Life After You\",\"Smile\",\"Teach Me How to Dougie\",\"Try Sleeping with a Broken Heart\"\n",
    "        ,\"Lover, Lover\"]"
   ],
   "cell_type": "code",
   "metadata": {},
   "execution_count": 8,
   "outputs": []
  },
  {
   "cell_type": "code",
   "execution_count": 46,
   "metadata": {},
   "outputs": [],
   "source": [
    "#df_god = pd.DataFrame(set(df_playlist_song2.index))"
   ]
  },
  {
   "cell_type": "code",
   "execution_count": 21,
   "metadata": {},
   "outputs": [
    {
     "output_type": "stream",
     "name": "stdout",
     "text": [
      "Tik Tok is in the database\n",
      "Need You Now is in the database\n",
      "Hey, Soul Sister is in the database\n",
      "OMG is in the database\n",
      "Airplanes is in the database\n",
      "Love the Way You Lie is in the database\n",
      "Bad Romance is in the database\n",
      "Dynamite is in the database\n",
      "Break Your Heart is in the database\n",
      "Nothin' on You is in the database\n",
      "I Like It is in the database\n",
      "BedRock is in the database\n",
      "In My Head is in the database\n",
      "Rude Boy is in the database\n",
      "Telephone is in the database\n",
      "Teenage Dream is in the database\n",
      "Just the Way You Are is in the database\n",
      "Cooler Than Me is in the database\n",
      "Imma Be is in the database\n",
      "Index(['Whatcha Say', 'Replay', 'Down', 'Kiss Me Thru The Phone',\n",
      "       'Party In The U.S.A.', 'I'm Yours', 'TiK ToK',\n",
      "       'Only Girl (In The World)', 'Last Friday Night (T.G.I.F.)', 'SexyBack',\n",
      "       'Hey There Delilah', 'Grenade', 'Umbrella', 'I Gotta Feeling',\n",
      "       'Nothin' On You (feat. Bruno Mars)', 'Beautiful Girls',\n",
      "       'California Gurls - feat. Snoop Dogg',\n",
      "       'Airplanes (feat. Hayley Williams of Paramore) - Explicit Album Version',\n",
      "       'Fireflies', 'Disturbia', 'Don't Stop The Music', 'Poker Face', 'Halo',\n",
      "       'Like A G6', 'Hot N Cold', 'Your Love Is My Drug', 'Payphone',\n",
      "       'Just Dance', 'Since U Been Gone',\n",
      "       'Stereo Hearts (feat. Adam Levine) - feat. Adam Levine',\n",
      "       'Love The Way You Lie', 'Promiscuous', 'DJ Got Us Fallin' In Love',\n",
      "       'Gives You Hell', 'Fire Burning', 'Wild Ones (feat. Sia)',\n",
      "       'Ridin' Solo', 'Bubbly', 'Tonight Tonight', 'Hips Don't Lie',\n",
      "       'Use Somebody', 'What Makes You Beautiful', 'Hollaback Girl',\n",
      "       'Boom Boom Pow', 'Right Round - feat. Ke$ha',\n",
      "       'You Make Me Feel... - feat. Sabi', 'The Lazy Song', 'Price Tag',\n",
      "       'Girlfriend (German Version - Explicit) - German Version - Explicit',\n",
      "       'Just A Dream - Main', 'Whatever You Like', 'Yeah!',\n",
      "       'We Are Young (feat. Janelle Monáe) - feat. Janelle Monae',\n",
      "       'Rolling in the Deep', 'Dirty Little Secret', 'Irreplaceable',\n",
      "       'We Found Love', 'Burnin' Up', 'Titanium (feat. Sia) - feat. Sia',\n",
      "       'Ignition - Remix', 'A Thousand Years',\n",
      "       'Big Girls Don't Cry (Personal)', 'Buy U a Drank (Shawty Snappin')',\n",
      "       'Gold Digger', 'I Kissed a Girl', 'Toxic', 'Crank That (Soulja Boy)',\n",
      "       'Good Life', 'Stronger', 'So What', 'All Star', 'We R Who We R',\n",
      "       'Lighters', 'Marry You', 'Apologize', 'Locked Out Of Heaven',\n",
      "       'Glad You Came', 'Viva La Vida', 'Bulletproof', 'With You', 'Baby',\n",
      "       'Suga Suga', 'Love Song', 'Clumsy', 'Billionaire (feat. Bruno Mars)',\n",
      "       'The Show Goes On', 'Right Now (Na Na Na)', 'Chasing Cars',\n",
      "       'Single Ladies (Put a Ring on It)', 'Photograph', 'Call Me Maybe',\n",
      "       'Do You Remember', 'Heartless', 'When I Grow Up', 'Misery',\n",
      "       'She Will Be Loved - Radio Mix', 'It Girl', 'Forever',\n",
      "       'Live Your Life (feat. Rihanna)', 'Womanizer'],\n",
      "      dtype='object')\n",
      "Songs that appear in Spotify database: 68\n",
      "Songs that match our recommended songs: 13\n",
      "Matching Rate: 19.12%\n"
     ]
    }
   ],
   "source": [
    "print(evaluation_metrics_god(user_playlist))"
   ]
  },
  {
   "cell_type": "code",
   "execution_count": 24,
   "metadata": {},
   "outputs": [],
   "source": [
    "user_playlist2 = [\"Dance With the Devil\",\"Moves\",\"DEVASTATED\",\"Back At It\",\"No Role Modelz\",\"Stronger\",\"BUTTERFLY EFFECT\",\"rockstar\",\"Swimming Pools (Drank)\",\"The Show Goes On\",\"Can't Tell Me Nothing\",\"XO Tour Llif\",\"Chaos\",\"Jocelyn Flores\",\"Everybody\",\"LOYALTY. FEAT. RIHANNA.\",\"I Fall Apart\",\"Everybody Dies In Their Nightmares\",\"It's A Vibe Chainz\",\"Lemon\",\"Move Bitch\",\"Heathens\",\"Only\",\"Chun-Li\",\"APESHIT\",\"Feelin' Myself\",\"Chun-Li\",\"Trini Dem Girls\",\"Feeling Myself\",\"Berzerk\",\"Mockingbird\",\"Just Lose It\",\"Like Toy Soldiers\",\"Superman\",\"Without Me\",\"Cleanin' Out My Closet\",\"Stan\",\"My Name Is\",\"SICKO MODE\",\"Jugg\",\"Redstripe Rhapsody\",\"Lalala\",\"Devastated\",\"NEW MAGIC WAND\",\"Bodak Yellow\",\"Seventeen\",\"Anaconda\",\"Bank Account\",\"Look At Me!\",\"Gucci Gang\",\"Mask Off\",\"Sad Nibba Hours\",\"Savage Mode\",\"Run This Town\",\"Bad and Boujee (feat. Lil Uzi Vert)\",\"Blue World\",\"GOTTASADAE\",\"Blue World\",\"Craftmanship\",\"No Type\",\"LIL BIT\",\"Yoshi City\",\"Kyoto\",\"The Box\",\"Psycho!\",\"THE SCOTTS\",\"goosebumps\",\"Ginseng Strip \",\"Red Bottom Sky\",\"Do Not Disturb\",\"Crush\",\"Immortal\",\"Tired of Me\",\"Clap Clap\",\"Get Out My Way\",\"I'm Not Racist\",\"POISON KLAN\",\"World Wide Web\",\"Bound \",\"Black Skinhead\",\"This Is America\",\"holy terrain\",\"Riot\",\"Wild for the Night\",\"Versace (Remix)\",\"Heartless\",\"Amazing\",\"Love Lockdown\",\"BLACK PARADE\",\"Antisocial (with Travis Scott)\",\"Unforgettable\",\"No Frauds\",\"Get It\",\"Bllionz\",\"Flashing Lights\",\"Who Dat Boy\",\"Garbage\",\"THE PLAN\",\"WET\",\"Shabba\"]"
   ]
  },
  {
   "cell_type": "code",
   "execution_count": 25,
   "metadata": {},
   "outputs": [
    {
     "output_type": "stream",
     "name": "stdout",
     "text": [
      "Dance With the Devil is in the database\n",
      "Moves is in the database\n",
      "DEVASTATED is in the database\n",
      "Back At It is in the database\n",
      "No Role Modelz is in the database\n",
      "Stronger is in the database\n",
      "rockstar is in the database\n",
      "Swimming Pools (Drank) is in the database\n",
      "The Show Goes On is in the database\n",
      "Can't Tell Me Nothing is in the database\n",
      "Chaos is in the database\n",
      "Jocelyn Flores is in the database\n",
      "Everybody is in the database\n",
      "LOYALTY. FEAT. RIHANNA. is in the database\n",
      "I Fall Apart is in the database\n",
      "Everybody Dies In Their Nightmares is in the database\n",
      "Lemon is in the database\n"
     ]
    },
    {
     "output_type": "execute_result",
     "data": {
      "text/plain": [
       "Congratulations                   11\n",
       "HUMBLE.                            9\n",
       "XO TOUR Llif3                      8\n",
       "Fuck Love (feat. Trippie Redd)     8\n",
       "1-800-273-8255                     8\n",
       "                                  ..\n",
       "Weekend (feat. Miguel)             2\n",
       "Catch Me Outside                   2\n",
       "Money Longer                       2\n",
       "Ill Mind of Hopsin 7               2\n",
       "Perplexing Pegasus                 2\n",
       "Name: song, Length: 100, dtype: int64"
      ]
     },
     "metadata": {},
     "execution_count": 25
    }
   ],
   "source": [
    "new_recommendation_god(user_playlist2)"
   ]
  },
  {
   "cell_type": "code",
   "execution_count": 26,
   "metadata": {},
   "outputs": [
    {
     "output_type": "stream",
     "name": "stdout",
     "text": [
      "Dance With the Devil is in the database\n",
      "Moves is in the database\n",
      "DEVASTATED is in the database\n",
      "Back At It is in the database\n",
      "No Role Modelz is in the database\n",
      "Stronger is in the database\n",
      "rockstar is in the database\n",
      "Swimming Pools (Drank) is in the database\n",
      "The Show Goes On is in the database\n",
      "Can't Tell Me Nothing is in the database\n",
      "Chaos is in the database\n",
      "Jocelyn Flores is in the database\n",
      "Everybody is in the database\n",
      "LOYALTY. FEAT. RIHANNA. is in the database\n",
      "I Fall Apart is in the database\n",
      "Everybody Dies In Their Nightmares is in the database\n",
      "Lemon is in the database\n",
      "Index(['Congratulations', 'HUMBLE.', 'XO TOUR Llif3',\n",
      "       'Fuck Love (feat. Trippie Redd)', '1-800-273-8255', 'Unforgettable',\n",
      "       'Young Dumb & Broke', 'Bodak Yellow', 'Drowning (feat. Kodak Black)',\n",
      "       'Mask Off', 'White Iverson', 'Slippery (feat. Gucci Mane)',\n",
      "       'Gucci Gang', 'One Night', 'do re mi', 'Magnolia',\n",
      "       'I Don't Fuck With You', 'Swang', 'Bounce Back', 'Go Flex', 'Caroline',\n",
      "       'Wild Thoughts', 'Flexicution', 'Bad and Boujee (feat. Lil Uzi Vert)',\n",
      "       'Transportin'', 'Redbone', 'No Type', 'Ignition - Remix',\n",
      "       'What They Want', 'Sauce It Up', 'Ni**as In Paris', 'Candy Paint',\n",
      "       'Revenge', 'These Days', 'Faded', 'Love Scars', 'Patty Cake',\n",
      "       'Marmalade (feat. Lil Yachty)', 'Pursuit Of Happiness (nightmare)',\n",
      "       'Cash Machine', 'Hypnotize - 2014 Remastered Version',\n",
      "       'Black SpiderMan', 'Crazy Rap (Colt 45 & 2 Zig Zags)',\n",
      "       'F**kin' Problems', 'X Gon' Give It To Ya', 'wokeuplikethis*', 'Down',\n",
      "       'DNA.', 'Location', 'The Way Life Goes (feat. Oh Wonder)', 'Rake It Up',\n",
      "       'It's A Vibe', 'Mercy', 'IV. sweatpants', 'Wrist', 'Paradise',\n",
      "       'Look At Me!', 'I'm the One', 'goosebumps', 'Bank Account', 'POWER',\n",
      "       'Butterfly Effect', 'Sorry Not Sorry', 'Friends (with BloodPop®)',\n",
      "       'Save Me', 'I Get The Bag (feat. Migos)', 'First Day Out', 'Power Trip',\n",
      "       'Fight Night', 'Little Do You Know',\n",
      "       'No Hands (feat. Roscoe Dash and Wale) - Explicit Album Version',\n",
      "       'City Of Stars', 'The Race', 'Roll In Peace (feat. XXXTENTACION)',\n",
      "       'I'm On One', 'No Problem (feat. Lil Wayne & 2 Chainz)',\n",
      "       'iSpy (feat. Lil Yachty)',\n",
      "       'Horses (with PnB Rock, Kodak Black & A Boogie Wit da Hoodie)',\n",
      "       'Big Poppa', 'A.D.H.D', 'Good Life', 'Only', 'Gangsta's Paradise',\n",
      "       'Molly', 'Gospel', 'Lose Yourself - Soundtrack Version', 'Havana',\n",
      "       'T-Shirt', 'Same Love - feat. Mary Lambert', 'Wet Dreamz', 'Fake Love',\n",
      "       'Broccoli (feat. Lil Yachty)', 'Audi.', 'Kiss Me Thru The Phone',\n",
      "       'Back To Back', 'Weekend (feat. Miguel)', 'Catch Me Outside',\n",
      "       'Money Longer', 'Ill Mind of Hopsin 7', 'Perplexing Pegasus'],\n",
      "      dtype='object')\n",
      "Songs that appear in Spotify database: 50\n",
      "Songs that match our recommended songs: 10\n",
      "Matching Rate: 20.0%\n"
     ]
    }
   ],
   "source": [
    "print(evaluation_metrics_god(user_playlist2))"
   ]
  },
  {
   "cell_type": "code",
   "execution_count": 51,
   "metadata": {},
   "outputs": [
    {
     "output_type": "execute_result",
     "data": {
      "text/plain": [
       "0.8"
      ]
     },
     "metadata": {},
     "execution_count": 51
    }
   ],
   "source": [
    "\"\"\"\n",
    "from scipy.spatial import distance\n",
    "import numpy as np\n",
    "distance.hamming([1, 0, 0, np.nan, np.nan], [0, 1, 0,  np.nan, np.nan])\n",
    "\"\"\""
   ]
  },
  {
   "cell_type": "code",
   "execution_count": null,
   "metadata": {},
   "outputs": [],
   "source": []
  }
 ]
}